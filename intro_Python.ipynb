{
 "cells": [
  {
   "cell_type": "code",
   "execution_count": 5,
   "metadata": {},
   "outputs": [
    {
     "name": "stdout",
     "output_type": "stream",
     "text": [
      "hola  4\n"
     ]
    }
   ],
   "source": [
    "print('hola ', 4)"
   ]
  },
  {
   "cell_type": "code",
   "execution_count": 1,
   "metadata": {},
   "outputs": [
    {
     "name": "stdout",
     "output_type": "stream",
     "text": [
      "hola\n",
      "5\n",
      "7.5\n"
     ]
    }
   ],
   "source": [
    "x=\"hola\"\n",
    "print(x)\n",
    "\n",
    "x = 5\n",
    "print(x)\n",
    "\n",
    "y=x+2.5\n",
    "print(y)"
   ]
  },
  {
   "cell_type": "code",
   "execution_count": 10,
   "metadata": {},
   "outputs": [
    {
     "name": "stdout",
     "output_type": "stream",
     "text": [
      "<class 'int'>\n",
      "1 2 3 10\n"
     ]
    }
   ],
   "source": [
    "x=3\n",
    "print(type(x))\n",
    "\n",
    "print(1,2,x,5*2)"
   ]
  },
  {
   "cell_type": "code",
   "execution_count": 16,
   "metadata": {},
   "outputs": [
    {
     "name": "stdout",
     "output_type": "stream",
     "text": [
      "5\n",
      "True\n"
     ]
    }
   ],
   "source": [
    "a=5\n",
    "b=6\n",
    "if a==5 and b==6:\n",
    "    print(a)\n",
    "\n",
    "print(3<5)"
   ]
  },
  {
   "cell_type": "code",
   "execution_count": 20,
   "metadata": {},
   "outputs": [
    {
     "name": "stdout",
     "output_type": "stream",
     "text": [
      "[57, 45, 7, 13]\n",
      "['hola', 'chau, \"buen dia', 5]\n",
      "<class 'list'>\n",
      "5\n"
     ]
    }
   ],
   "source": [
    "a = [57,45,7,13]\n",
    "print(a)\n",
    "\n",
    "b = [\"hola\", 'chau, \"buen dia', 5]\n",
    "print(b)\n",
    "print(type(b))\n",
    "\n",
    "print(b[-1])"
   ]
  },
  {
   "cell_type": "code",
   "execution_count": 25,
   "metadata": {},
   "outputs": [
    {
     "name": "stdout",
     "output_type": "stream",
     "text": [
      "[57, 45, 7, 13]\n",
      "[57, 45]\n",
      "[57, 45]\n",
      "[45, 7]\n",
      "[45, 7, 13]\n"
     ]
    }
   ],
   "source": [
    "print(a)\n",
    "print(a[0:2])\n",
    "print(a[:2])\n",
    "print(a[1:3])\n",
    "print(a[1:])"
   ]
  },
  {
   "cell_type": "code",
   "execution_count": 27,
   "metadata": {},
   "outputs": [
    {
     "name": "stdout",
     "output_type": "stream",
     "text": [
      "[57, 45, 7, 13, 999]\n",
      "[57, 45, 7, 13, 999, 999]\n",
      "2120\n"
     ]
    }
   ],
   "source": [
    "print(a)\n",
    "a.append(999)\n",
    "print(a)\n",
    "print(sum(a))"
   ]
  },
  {
   "cell_type": "code",
   "execution_count": 30,
   "metadata": {},
   "outputs": [
    {
     "name": "stdout",
     "output_type": "stream",
     "text": [
      "(15, 12, 11, 90)\n",
      "11\n"
     ]
    }
   ],
   "source": [
    "###tupla es una lista inmutable, no puede cambiar\n",
    "\n",
    "tupla = (15, 12, 11, 90)\n",
    "print(tupla)\n",
    "print(tupla[2])"
   ]
  },
  {
   "cell_type": "code",
   "execution_count": 33,
   "metadata": {},
   "outputs": [
    {
     "name": "stdout",
     "output_type": "stream",
     "text": [
      "{1, 2, 3, 4}\n",
      "1\n",
      "2\n",
      "3\n",
      "4\n"
     ]
    }
   ],
   "source": [
    "#set, la clave principal no se puede repetir\n",
    "conjunto = {1,2,3,4,1}\n",
    "print(conjunto)\n",
    "for c in conjunto:\n",
    "    print(c)"
   ]
  },
  {
   "cell_type": "code",
   "execution_count": 1,
   "metadata": {},
   "outputs": [
    {
     "name": "stdout",
     "output_type": "stream",
     "text": [
      "{'nombre': 'io', 'apellido': 'io 2 :v', 'edad': 1, 'materias': ['programacion', 'sistemas expertos', 'java']}\n",
      "io\n",
      "['programacion', 'sistemas expertos']\n"
     ]
    }
   ],
   "source": [
    "#diccionario\n",
    "diccionario = {'nombre':'io', 'apellido':'io 2 :v', 'edad':1, 'materias':['programacion', 'sistemas expertos','java']}\n",
    "print(diccionario)\n",
    "print(diccionario['nombre'])\n",
    "print(diccionario['materias'][0:2])"
   ]
  },
  {
   "cell_type": "code",
   "execution_count": 15,
   "metadata": {},
   "outputs": [
    {
     "name": "stdout",
     "output_type": "stream",
     "text": [
      "1\n"
     ]
    }
   ],
   "source": [
    "#if inline\n",
    "\n",
    "b=5\n",
    "a=1 if b>2 else 2\n",
    "\n",
    "print(a)"
   ]
  },
  {
   "cell_type": "code",
   "execution_count": 17,
   "metadata": {},
   "outputs": [
    {
     "name": "stdout",
     "output_type": "stream",
     "text": [
      "12\n"
     ]
    }
   ],
   "source": [
    "#funciones\n",
    "\n",
    "def suma(a,b):\n",
    "    return a+b\n",
    "\n",
    "c = suma(10,2)\n",
    "print(c)"
   ]
  },
  {
   "cell_type": "code",
   "execution_count": 1,
   "metadata": {},
   "outputs": [],
   "source": [
    "#clases\n",
    "# _ significa que es una variable privada\n",
    "\n",
    "#siempre que se manejen metodos es una clase, recibir como parametro el self\n",
    "\n",
    "class clase(object):\n",
    "    CONSTANTE = 5\n",
    "\n",
    "classInstance = clase()"
   ]
  },
  {
   "cell_type": "code",
   "execution_count": 5,
   "metadata": {},
   "outputs": [
    {
     "name": "stdout",
     "output_type": "stream",
     "text": [
      "aaaa\n",
      "final\n"
     ]
    }
   ],
   "source": [
    "#excepciones\n",
    "try:\n",
    "    10/0\n",
    "except:\n",
    "    print('aaaa')\n",
    "else:\n",
    "    print('hola')\n",
    "    pass\n",
    "finally:\n",
    "    print('final')"
   ]
  }
 ],
 "metadata": {
  "interpreter": {
   "hash": "eb518958feb9d7264ad2e7f8a51756bea82ed3fef0b72e8a0356371864f08c87"
  },
  "kernelspec": {
   "display_name": "Python 3.9.10 64-bit",
   "language": "python",
   "name": "python3"
  },
  "language_info": {
   "codemirror_mode": {
    "name": "ipython",
    "version": 3
   },
   "file_extension": ".py",
   "mimetype": "text/x-python",
   "name": "python",
   "nbconvert_exporter": "python",
   "pygments_lexer": "ipython3",
   "version": "3.9.10"
  },
  "orig_nbformat": 4
 },
 "nbformat": 4,
 "nbformat_minor": 2
}

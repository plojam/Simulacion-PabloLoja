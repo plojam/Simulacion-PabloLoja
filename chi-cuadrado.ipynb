{
 "cells": [
  {
   "cell_type": "code",
   "execution_count": 1,
   "metadata": {},
   "outputs": [],
   "source": [
    "import math\n",
    "import random\n",
    "import matplotlib.pyplot as plt\n",
    "import numpy as np"
   ]
  },
  {
   "cell_type": "code",
   "execution_count": 2,
   "metadata": {},
   "outputs": [],
   "source": [
    "#Cuadrados medios\n",
    "def funCuadradosMedios(xo,d,iteraciones):\n",
    "    final = []\n",
    "    xn = xo\n",
    "    # print(\"It. \\t Xn \\t Ui \\t Rn\")\n",
    "    for i in range(iteraciones):\n",
    "        xnn = xn**2\n",
    "        txnn = str(xnn).zfill(8)\n",
    "        tam = len(txnn)\n",
    "        ui = int(txnn[int(tam/2-d/2):int(tam/2+d/2)])\n",
    "        rn = ui / (int('9'*d)+1)\n",
    "    #   print(str(i) + \"\\t\" + str(xn) + \"\\t\"+ str(ui)+\"\\t\"+str(rn))\n",
    "        final.append(rn)\n",
    "        xn = ui\n",
    "\n",
    "    return final"
   ]
  },
  {
   "cell_type": "code",
   "execution_count": 3,
   "metadata": {},
   "outputs": [],
   "source": [
    "#Congruencia lineal\n",
    "def funCongruenciaLineal(xo,a,b,m,iteraciones):\n",
    "    final = []\n",
    "    xn = xo\n",
    "    # print(\"It. \\t Xn \\t Ui\")\n",
    "    for i in range(iteraciones):\n",
    "        xnn = (a*xn+b) % m\n",
    "        ui = xnn/m\n",
    "        # print(str(i) + \"\\t\"+ str(xnn)+\"\\t\"+str(ui))\n",
    "        final.append(ui)\n",
    "        xn = xnn\n",
    "    return final"
   ]
  },
  {
   "cell_type": "code",
   "execution_count": 13,
   "metadata": {},
   "outputs": [],
   "source": [
    "#tausworthe\n",
    "def binario_a_decimal(numero_binario):\n",
    "\tnumero_decimal = 0 \n",
    "\n",
    "\tfor posicion, digito_string in enumerate(numero_binario[::-1]):\n",
    "\t\tnumero_decimal += int(digito_string) * 2 ** posicion\n",
    "\n",
    "\treturn numero_decimal\n",
    "def funTausworthe(r,q,l,iteraciones):\n",
    "    bits =[]\n",
    "\n",
    "    #ingresar los valores [0,1] personalmente para el vector inicial\n",
    "    # for x in range(0,q):\n",
    "    #     bit = input('Ingrese un valor binario para el vector inicial de longitud '+str(q))\n",
    "    #     bits.append(int(bit))\n",
    "\n",
    "    #ooo, llenar directamente el vector inicial con 1\n",
    "    for x in range(0,q):\n",
    "        bits.append(1)\n",
    "\n",
    "    # cantidad = (2**q) - 1 - q\n",
    "    cantidad = iteraciones*l\n",
    "\n",
    "    for i in range(q+1,cantidad+1):\n",
    "        if bits[(i-r)-1] == bits[(i-q)-1]:\n",
    "            bits.append(0)\n",
    "        else:\n",
    "            bits.append(1)\n",
    "\n",
    "    vector = ''\n",
    "    for x in range(0,len(bits)):\n",
    "        vector = vector + str(bits[x])\n",
    "        if (x+1) % q == 0:\n",
    "            vector += ' '\n",
    "\n",
    "    # print(vector)\n",
    "    nGrupos = math.floor(len(bits)/l)\n",
    "    # print('Se obtienen ',nGrupos, ' numeros decimales conformados de ', l, ' bits')\n",
    "    # print('Sobran ', len(bits)-(l*nGrupos), ' bits no utilizados')\n",
    "\n",
    "    grupos=[bits[i:i + l] for i in range(0, len(bits), l)]\n",
    "\n",
    "    decimales = []\n",
    "\n",
    "    for x in grupos:\n",
    "        binario = ''\n",
    "        for b in x:\n",
    "            binario += str(b)\n",
    "        decimales.append(binario_a_decimal(binario))\n",
    "\n",
    "    dividido = ''\n",
    "    divisor = 2**l\n",
    "    final = []\n",
    "    for x in decimales:\n",
    "        dividido += str(x) + '/' + str(divisor) + \",  \"\n",
    "        final.append(x/divisor)\n",
    "\n",
    "    # print(dividido)\n",
    "    # print('Final: ',final)\n",
    "    return final\n",
    "\n"
   ]
  },
  {
   "cell_type": "code",
   "execution_count": 5,
   "metadata": {},
   "outputs": [],
   "source": [
    "#Random python\n",
    "def funRandomPython(seed,iteraciones):\n",
    "    final = []\n",
    "    random.seed(seed)\n",
    "    [final.append(random.random())for i in range(iteraciones)]\n",
    "    return final\n"
   ]
  },
  {
   "cell_type": "code",
   "execution_count": 68,
   "metadata": {},
   "outputs": [],
   "source": [
    "# cuadradosMedios = funCuadradosMedios(74731897457,7,15) #si funciona\n",
    "# congruenciaLineal = funCongruenciaLineal(7,74731897457,37747318974,19,15) #si funciona\n",
    "# tausworthe = funTausworthe(3,7,5) # si funciona\n",
    "# randomPython = funRandomPython(11052022,100) # si funciona"
   ]
  },
  {
   "cell_type": "code",
   "execution_count": 17,
   "metadata": {},
   "outputs": [],
   "source": [
    "#Defino una funcion para realizar un conteo de los numeros que caen dentro de cada intervalo\n",
    "def calcular_chi(numeros):\n",
    "  tablas = {}\n",
    "  for i in np.arange(0.1, 1.1, 0.1): # aqui separo en intervalos de 0.1\n",
    "    for j in numeros:\n",
    "      if j > i-0.1 and j <= i: # Compruebo si el valor esta dentro del intervalor\n",
    "        tablas[round(i-0.1,1)] = tablas[round(i-0.1,1)]+1 if round(i-0.1,1) in tablas else 1\n",
    "  return tablas\n",
    "\n",
    "#defino una funcion para aplicar la formula y obtener la desviacion estandar de cada intervalo  \n",
    "def sumatoria_chi(tabla, E):\n",
    "  return sum([(valor-E)**2/E for valor in tabla.values()])\n",
    "\n",
    "def graficar(tabla):\n",
    "  plt.bar(range(len(tabla)), list(tabla.values()), tick_label=list(tabla.keys()))\n",
    "  ax = plt.gca()\n",
    "  for bars in ax.containers:\n",
    "    ax.bar_label(bars)\n",
    "  plt.show()\n"
   ]
  },
  {
   "cell_type": "code",
   "execution_count": 19,
   "metadata": {},
   "outputs": [
    {
     "name": "stdout",
     "output_type": "stream",
     "text": [
      "Cadrados medios\n",
      "Tabla de intervalos y el conteo de numeros dentro de cada intervalo\n",
      "{0.0: 6, 0.1: 9, 0.2: 10, 0.3: 10, 0.4: 6, 0.5: 12, 0.6: 13, 0.7: 11, 0.8: 7, 0.9: 16}\n",
      "Valor de chi cuadrado\n",
      "9.200000000000001\n",
      "Grafica de barras\n"
     ]
    },
    {
     "data": {
      "image/png": "[encoded data removed]",
      "text/plain": [
       "<Figure size 432x288 with 1 Axes>"
      ]
     },
     "metadata": {
      "needs_background": "light"
     },
     "output_type": "display_data"
    }
   ],
   "source": [
    "  \n",
    "# print(\"Los 100 numeros aleatorios generados\")\n",
    "# print(randomPython)\n",
    "print('Cadrados medios')\n",
    "print(\"Tabla de intervalos y el conteo de numeros dentro de cada intervalo\")\n",
    "tablas = calcular_chi(funCuadradosMedios(74731897457,7,100))\n",
    "print(tablas)\n",
    "print(\"Valor de chi cuadrado\")\n",
    "print(sumatoria_chi(tablas, 10))\n",
    "print(\"Grafica de barras\")\n",
    "graficar(tablas)  \n"
   ]
  },
  {
   "cell_type": "code",
   "execution_count": 20,
   "metadata": {},
   "outputs": [
    {
     "name": "stdout",
     "output_type": "stream",
     "text": [
      "Congruencia lineal\n",
      "Tabla de intervalos y el conteo de numeros dentro de cada intervalo\n",
      "{0.1: 11, 0.3: 22, 0.6: 11, 0.7: 11, 0.8: 23, 0.9: 11}\n",
      "Valor de chi cuadrado\n",
      "31.7\n",
      "Grafica de barras\n"
     ]
    },
    {
     "data": {
      "image/png": "[encoded data removed]",
      "text/plain": [
       "<Figure size 432x288 with 1 Axes>"
      ]
     },
     "metadata": {
      "needs_background": "light"
     },
     "output_type": "display_data"
    }
   ],
   "source": [
    "print('Congruencia lineal')\n",
    "print(\"Tabla de intervalos y el conteo de numeros dentro de cada intervalo\")\n",
    "tablas = calcular_chi(funCongruenciaLineal(7,74731897457,37747318974,19,100))\n",
    "print(tablas)\n",
    "print(\"Valor de chi cuadrado\")\n",
    "print(sumatoria_chi(tablas, 10))\n",
    "print(\"Grafica de barras\")\n",
    "graficar(tablas)  \n"
   ]
  },
  {
   "cell_type": "code",
   "execution_count": 21,
   "metadata": {},
   "outputs": [
    {
     "name": "stdout",
     "output_type": "stream",
     "text": [
      "Tausworthe\n",
      "Tabla de intervalos y el conteo de numeros dentro de cada intervalo\n",
      "{0.0: 9, 0.1: 9, 0.2: 11, 0.3: 10, 0.4: 13, 0.5: 9, 0.6: 8, 0.7: 12, 0.8: 8, 0.9: 10}\n",
      "Valor de chi cuadrado\n",
      "2.5\n",
      "Grafica de barras\n"
     ]
    },
    {
     "data": {
      "image/png": "[encoded data removed]",
      "text/plain": [
       "<Figure size 432x288 with 1 Axes>"
      ]
     },
     "metadata": {
      "needs_background": "light"
     },
     "output_type": "display_data"
    }
   ],
   "source": [
    "print('Tausworthe')\n",
    "print(\"Tabla de intervalos y el conteo de numeros dentro de cada intervalo\")\n",
    "tablas = calcular_chi(funTausworthe(3,7,5,100))\n",
    "print(tablas)\n",
    "print(\"Valor de chi cuadrado\")\n",
    "print(sumatoria_chi(tablas, 10))\n",
    "print(\"Grafica de barras\")\n",
    "graficar(tablas)  \n",
    "\n"
   ]
  },
  {
   "cell_type": "code",
   "execution_count": 22,
   "metadata": {},
   "outputs": [
    {
     "name": "stdout",
     "output_type": "stream",
     "text": [
      "Random de python\n",
      "Tabla de intervalos y el conteo de numeros dentro de cada intervalo\n",
      "{0.0: 15, 0.1: 11, 0.2: 14, 0.3: 10, 0.4: 2, 0.5: 17, 0.6: 8, 0.7: 9, 0.8: 7, 0.9: 7}\n",
      "Valor de chi cuadrado\n",
      "17.8\n",
      "Grafica de barras\n"
     ]
    },
    {
     "data": {
      "image/png": "[encoded data removed]",
      "text/plain": [
       "<Figure size 432x288 with 1 Axes>"
      ]
     },
     "metadata": {
      "needs_background": "light"
     },
     "output_type": "display_data"
    }
   ],
   "source": [
    "print('Random de python')\n",
    "print(\"Tabla de intervalos y el conteo de numeros dentro de cada intervalo\")\n",
    "tablas = calcular_chi(funRandomPython(11052022,100))\n",
    "print(tablas)\n",
    "print(\"Valor de chi cuadrado\")\n",
    "print(sumatoria_chi(tablas, 10))\n",
    "print(\"Grafica de barras\")\n",
    "graficar(tablas)  \n"
   ]
  }
 ],
 "metadata": {
  "interpreter": {
   "hash": "ffda414415c4b976c53fd3710545a1b34601dda7635296f9321b48022778f0db"
  },
  "kernelspec": {
   "display_name": "Python 3.9.7 ('base')",
   "language": "python",
   "name": "python3"
  },
  "language_info": {
   "codemirror_mode": {
    "name": "ipython",
    "version": 3
   },
   "file_extension": ".py",
   "mimetype": "text/x-python",
   "name": "python",
   "nbconvert_exporter": "python",
   "pygments_lexer": "ipython3",
   "version": "3.9.7"
  },
  "orig_nbformat": 4
 },
 "nbformat": 4,
 "nbformat_minor": 2
}

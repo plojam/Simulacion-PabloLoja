{
 "cells": [
  {
   "cell_type": "code",
   "execution_count": 8,
   "metadata": {},
   "outputs": [
    {
     "name": "stdout",
     "output_type": "stream",
     "text": [
      "10.315240963234992\n",
      "10.55929742548055\n",
      "11.016992803045675\n",
      "11.636707105082477\n",
      "6.246215775396614\n",
      "12.945782460537526\n",
      "10.588818940084558\n"
     ]
    }
   ],
   "source": [
    "import random\n",
    "print(random.normalvariate(10, 2))\n",
    "print(random.normalvariate(10, 2))\n",
    "print(random.normalvariate(10, 2))\n",
    "print(random.normalvariate(10, 2))\n",
    "print(random.normalvariate(10, 2))\n",
    "print(random.normalvariate(10, 2))\n",
    "print(random.normalvariate(10, 2))"
   ]
  }
 ],
 "metadata": {
  "kernelspec": {
   "display_name": "Python 3.9.7 ('base')",
   "language": "python",
   "name": "python3"
  },
  "language_info": {
   "codemirror_mode": {
    "name": "ipython",
    "version": 3
   },
   "file_extension": ".py",
   "mimetype": "text/x-python",
   "name": "python",
   "nbconvert_exporter": "python",
   "pygments_lexer": "ipython3",
   "version": "3.9.7"
  },
  "orig_nbformat": 4,
  "vscode": {
   "interpreter": {
    "hash": "ffda414415c4b976c53fd3710545a1b34601dda7635296f9321b48022778f0db"
   }
  }
 },
 "nbformat": 4,
 "nbformat_minor": 2
}

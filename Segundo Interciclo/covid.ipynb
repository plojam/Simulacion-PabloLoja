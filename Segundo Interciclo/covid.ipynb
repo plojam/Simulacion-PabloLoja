{
 "cells": [
  {
   "cell_type": "markdown",
   "metadata": {},
   "source": [
    "Realizar la planificación y modelado de una simulacion basado en eventos discretos para identificar los contagios dentro de un establecimiento de estudiantes post COVID-19 para el reingreso de clases. Los pasos para el regreso progresivo a clases se describe a continuación:\n",
    "* Calcular e Identificar el aforo máximo permitido en la institución educativa.\n",
    "* Identificar el número de estudiantes y el porcentaje de contagio dentro del contexto poblacional el mismo que se aplicara dentro de la simulación por el contagio.\n",
    "* Generar la simulación desde la puerta de ingreso y la salida del plantel por día.\n",
    "* Los estudiantes hacen fila para ingresar al establecimiento y no pueden superar el aforo permitido.\n",
    "* Realizar con un tiempo de un 1 mes."
   ]
  },
  {
   "cell_type": "code",
   "execution_count": 6,
   "metadata": {},
   "outputs": [],
   "source": [
    "import simpy\n",
    "import random\n",
    "import matplotlib.pyplot as plt\n",
    "from scipy import stats "
   ]
  },
  {
   "cell_type": "code",
   "execution_count": 10,
   "metadata": {},
   "outputs": [],
   "source": [
    "TASA_CONTAGIO = 0.3 # parametro de forma → bernoulli\n",
    "AFORO = 400\n",
    "TIEMPO_EJECUCION = 60 * 6 * 31 # simula un colegio (7am a 1pm)\n",
    "TIEMPO_CLASES = 60*6\n",
    "\n",
    "dia = 1\n",
    "tiempo_dia = 0\n",
    "contagio_dia = {}"
   ]
  },
  {
   "cell_type": "code",
   "execution_count": 11,
   "metadata": {},
   "outputs": [],
   "source": [
    "def contagio_bernoulli(tasa_contagio):\n",
    "    valor = stats.bernoulli(tasa_contagio)\n",
    "    return valor.rvs(1)\n",
    "    "
   ]
  },
  {
   "cell_type": "code",
   "execution_count": 12,
   "metadata": {},
   "outputs": [
    {
     "name": "stdout",
     "output_type": "stream",
     "text": [
      "Contagios por dia\n",
      "{1: 176, 2: 170, 3: 186, 4: 180, 5: 181, 6: 179, 7: 188, 8: 169, 9: 165, 10: 161, 11: 176, 12: 174, 13: 166, 14: 184, 15: 164, 16: 163, 17: 173, 18: 175, 19: 168, 20: 156, 21: 175, 22: 168, 23: 172, 24: 180, 25: 173, 26: 189, 27: 179, 28: 182, 29: 169, 30: 177}\n"
     ]
    },
    {
     "data": {
      "image/png": "[encoded data removed]",
      "text/plain": [
       "<Figure size 432x288 with 1 Axes>"
      ]
     },
     "metadata": {
      "needs_background": "light"
     },
     "output_type": "display_data"
    }
   ],
   "source": [
    "class Colegio(object):\n",
    "    def __init__(self, env, aforo):\n",
    "        self.env = env\n",
    "        self.aforo = simpy.Resource(env, aforo)\n",
    "\n",
    "    def clases(self,tiempo_clases):\n",
    "        yield self.env.timeout(tiempo_clases)\n",
    "\n",
    "def llegada_estudiantes(env, colegio, tasa_contagio,dia):\n",
    "    with colegio.aforo.request() as aforo:\n",
    "        \n",
    "        yield aforo\n",
    "        contagiado = 0\n",
    "        yield env.process(colegio.clases(TIEMPO_CLASES))\n",
    "        #mas tiempo pasa, mas probable es que se contagien\n",
    "        if (tiempo_dia < 60):\n",
    "            contagiado = contagio_bernoulli(tasa_contagio)\n",
    "        elif (tiempo_dia<=60 and tiempo_dia<120):\n",
    "            contagiado = contagio_bernoulli(tasa_contagio+0.1)\n",
    "        elif (tiempo_dia<=120 and tiempo_dia<180):\n",
    "            contagiado = contagio_bernoulli(tasa_contagio+0.2)\n",
    "        elif (tiempo_dia<=180 and tiempo_dia<240):\n",
    "            contagiado = contagio_bernoulli(tasa_contagio+0.3)\n",
    "        elif (tiempo_dia<=240 and tiempo_dia<300):\n",
    "            contagiado = contagio_bernoulli(tasa_contagio+0.4)\n",
    "        elif (tiempo_dia<=300 and tiempo_dia<360):\n",
    "            contagiado = contagio_bernoulli(tasa_contagio+0.5)\n",
    "        \n",
    "        if (contagiado == 1):\n",
    "            if dia in contagio_dia.keys():\n",
    "                contagio_dia[dia] += 1\n",
    "            else:\n",
    "                contagio_dia[dia] = 1\n",
    "\n",
    "def ejecutar_simulacion(env,aforo):\n",
    "    global contagio_dia\n",
    "    global dia\n",
    "    global tiempo_dia\n",
    "\n",
    "    colegio = Colegio(env,aforo)\n",
    "\n",
    "    while True:\n",
    "        tiempo_dia += 1\n",
    "        yield env.timeout(1)\n",
    "        env.process(llegada_estudiantes(env,colegio,TASA_CONTAGIO,dia))\n",
    "\n",
    "        if tiempo_dia==360:\n",
    "            dia += 1\n",
    "            tiempo_dia = 0\n",
    "\n",
    "env = simpy.Environment()\n",
    "env.process(ejecutar_simulacion(env,AFORO))\n",
    "env.run(until=TIEMPO_EJECUCION)\n",
    "\n",
    "print('Contagios por dia')\n",
    "print(contagio_dia)\n",
    "\n",
    "etiqueta = list(contagio_dia.keys())\n",
    "valores = list(contagio_dia.values())\n",
    "plt.bar(etiqueta, valores, align=\"center\")\n",
    "plt.title(\"Tasa de contagios por dia\")\n",
    "plt.xlabel(\"Dia\")\n",
    "plt.ylabel(\"Contagios\")\n",
    "plt.show()"
   ]
  }
 ],
 "metadata": {
  "kernelspec": {
   "display_name": "Python 3.9.7 ('base')",
   "language": "python",
   "name": "python3"
  },
  "language_info": {
   "codemirror_mode": {
    "name": "ipython",
    "version": 3
   },
   "file_extension": ".py",
   "mimetype": "text/x-python",
   "name": "python",
   "nbconvert_exporter": "python",
   "pygments_lexer": "ipython3",
   "version": "3.9.7"
  },
  "orig_nbformat": 4,
  "vscode": {
   "interpreter": {
    "hash": "ffda414415c4b976c53fd3710545a1b34601dda7635296f9321b48022778f0db"
   }
  }
 },
 "nbformat": 4,
 "nbformat_minor": 2
}

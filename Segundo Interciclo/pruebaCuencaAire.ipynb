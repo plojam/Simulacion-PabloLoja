{
 "cells": [
  {
   "cell_type": "code",
   "execution_count": 31,
   "metadata": {},
   "outputs": [],
   "source": [
    "import simpy\n",
    "import random\n",
    "import matplotlib.pyplot as plt\n",
    "from scipy import stats\n",
    "import numpy as np\n",
    "import math\n",
    "\n",
    "%matplotlib inline"
   ]
  },
  {
   "cell_type": "code",
   "execution_count": 6,
   "metadata": {},
   "outputs": [],
   "source": [
    "CARRILES_NORMALESS = 2\n",
    "CARRILES_PESADOS = 1\n",
    "TIEMPO_LLEGADA = 3\n",
    "\n",
    "TIEMPO_EJECUCION = 30 * 24 * 60 # DIAS * HORAS * MINUTOS\n",
    "\n"
   ]
  },
  {
   "cell_type": "code",
   "execution_count": 41,
   "metadata": {},
   "outputs": [],
   "source": [
    "def tiempo_revision():\n",
    "    return int(np.random.normal(20,10,1)[0])\n",
    "\n",
    "def seleccion_vehiculo():\n",
    "    return np.random.choice([1,2], p=[0.15,0.85])#1=pesado   y 2=normal\n",
    "\n",
    "def pasan_revision():\n",
    "    return np.random.choice([1,2], p=[0.6,0.4])#1=si   y 2=no\n"
   ]
  },
  {
   "cell_type": "code",
   "execution_count": 42,
   "metadata": {},
   "outputs": [
    {
     "name": "stdout",
     "output_type": "stream",
     "text": [
      "Total pesados revisados: 647\n",
      "Total normales revisados: 1224\n",
      "Total revisados: 1871\n",
      "Total rechasados: 1217\n",
      "Total revisados el dia 0: 65\n",
      "Total revisados el dia 1: 55\n",
      "Total revisados el dia 2: 59\n",
      "Total revisados el dia 3: 68\n",
      "Total revisados el dia 4: 69\n",
      "Total revisados el dia 5: 55\n",
      "Total revisados el dia 6: 64\n",
      "Total revisados el dia 7: 64\n",
      "Total revisados el dia 8: 57\n",
      "Total revisados el dia 9: 67\n",
      "Total revisados el dia 10: 60\n",
      "Total revisados el dia 11: 59\n",
      "Total revisados el dia 12: 59\n",
      "Total revisados el dia 13: 58\n",
      "Total revisados el dia 14: 72\n",
      "Total revisados el dia 15: 56\n",
      "Total revisados el dia 16: 60\n",
      "Total revisados el dia 17: 62\n",
      "Total revisados el dia 18: 63\n",
      "Total revisados el dia 19: 61\n",
      "Total revisados el dia 20: 64\n",
      "Total revisados el dia 21: 65\n",
      "Total revisados el dia 22: 63\n",
      "Total revisados el dia 23: 67\n",
      "Total revisados el dia 24: 65\n",
      "Total revisados el dia 25: 61\n",
      "Total revisados el dia 26: 62\n",
      "Total revisados el dia 27: 66\n",
      "Total revisados el dia 28: 65\n",
      "Total revisados el dia 29: 60\n",
      "Tomando en cuenta que los vehiculos rechasados luego fueron revisados nuevamente y terminaron este proceos, se obtuvieron los siguientes resultados: \n",
      "Porcentaaje de vehiculos rechazados: 65.04543025120256\n",
      "Porcentaje de vehiculos revisados de manera directa: 34.95456974879744\n"
     ]
    }
   ],
   "source": [
    "vehiculos_rechasados = {} # hora que regresa , tipo de vehiculo\n",
    "\n",
    "\n",
    "cantidad = {}\n",
    "\n",
    "\n",
    "vehiculos_dia = {}\n",
    "\n",
    "\n",
    "class negocio(object):\n",
    "    def __init__(self, env, num_carriles):\n",
    "        self.env = env\n",
    "        self.carriles = simpy.Resource(env, num_carriles)\n",
    "\n",
    "    def revision(self, tiempo_revision):\n",
    "        yield self.env.timeout(tiempo_revision)\n",
    "\n",
    "        \n",
    "\n",
    "\n",
    "def llegada_vehiculo(env,negocio,tipo):\n",
    "    with negocio.carriles.request() as carril:\n",
    "        yield carril\n",
    "\n",
    "        #tiempo de llegada\n",
    "        yield env.timeout(random.randint(3,5))\n",
    "        #tiempo cuando saca el turno\n",
    "        yield env.timeout(random.randint(1,3))\n",
    "        #tiempo cuando paga la matricula\n",
    "        yield env.timeout(random.randint(5,10))\n",
    "\n",
    "        #hacer un if para ver si consiguio o no terminar el proceso para darles sello\n",
    "        t = tiempo_revision()\n",
    "        while t < 0:\n",
    "            t = tiempo_revision()\n",
    "        yield env.process(negocio.revision(t))\n",
    "\n",
    "        #para saber si pasa o no la revision\n",
    "        res = pasan_revision()\n",
    "        if(res==1):# si paso la revision\n",
    "            yield env.timeout(random.randint(1,2)) # sello\n",
    "            if(tipo in cantidad):\n",
    "                cantidad[tipo] += 1\n",
    "            else:\n",
    "                cantidad[tipo] = 1\n",
    "            \n",
    "            #cantidad de revisiones por dia\n",
    "            tiempo_dia = env.now\n",
    "            dia = math.trunc(tiempo_dia/1440)\n",
    "            if(dia in vehiculos_dia):\n",
    "                vehiculos_dia[dia] += 1\n",
    "            else:\n",
    "                vehiculos_dia[dia] = 1\n",
    "\n",
    "        else:\n",
    "            tiempo_volver = env.now + 2880\n",
    "            vehiculos_rechasados[tiempo_volver] = tipo\n",
    "        #si cuando un vehiculo es rechazado y no cuenta el tiempo de salida, meter esto dentro de un if\n",
    "        #tiempo de salida\n",
    "        yield env.timeout(random.randint(5,10))\n",
    "\n",
    "def ejecutar_simulacion(env, num_carriles_normal, num_carriles_pesados):\n",
    "    carriles_normales = negocio(env, num_carriles_normal)\n",
    "    carril_pesado = negocio(env, num_carriles_pesados)\n",
    "\n",
    "    #generacion de llegada de carros\n",
    "    tie_llegada = env.now\n",
    "    while True:\n",
    "        k = env.now\n",
    "        if k in vehiculos_rechasados:\n",
    "            if vehiculos_rechasados[k]==1:\n",
    "                env.process(llegada_vehiculo(env,carril_pesado,vehiculos_rechasados[k]))\n",
    "            else:\n",
    "                env.process(llegada_vehiculo(env,carriles_normales,vehiculos_rechasados[k]))\n",
    "\n",
    "\n",
    "        if(tie_llegada==k):\n",
    "            tipo = seleccion_vehiculo()\n",
    "            if(tipo==1):\n",
    "                env.process(llegada_vehiculo(env,carril_pesado,tipo))\n",
    "            else:\n",
    "                env.process(llegada_vehiculo(env,carriles_normales,tipo))\n",
    "            tie_llegada=k+3\n",
    "        \n",
    "        yield env.timeout(1)\n",
    "\n",
    "\n",
    "random.seed(77)\n",
    "\n",
    "env = simpy.Environment()\n",
    "env.process(ejecutar_simulacion(env,CARRILES_NORMALESS,CARRILES_PESADOS))\n",
    "\n",
    "env.run(until = TIEMPO_EJECUCION)\n",
    "\n",
    "print('Total pesados revisados: %s' % cantidad[1])\n",
    "print('Total normales revisados: %s' % cantidad[2])\n",
    "print('Total revisados: %s' % (cantidad[1]+cantidad[2]))\n",
    "print('Total rechasados: %s' % len(vehiculos_rechasados))\n",
    "\n",
    "\n",
    "for x in vehiculos_dia:\n",
    "    print('Total revisados el dia %s: %s' % (x,vehiculos_dia[x]))\n",
    "\n",
    "print('Tomando en cuenta que los vehiculos rechasados luego fueron revisados nuevamente y terminaron este proceos, se obtuvieron los siguientes resultados: ')\n",
    "\n",
    "porcentaje = (len(vehiculos_rechasados)*100)/(cantidad[1]+cantidad[2])\n",
    "print('Porcentaaje de vehiculos rechazados: ' + str(porcentaje))\n",
    "print('Porcentaje de vehiculos revisados de manera directa: ' + str(100-porcentaje))\n"
   ]
  },
  {
   "cell_type": "code",
   "execution_count": 28,
   "metadata": {},
   "outputs": [
    {
     "data": {
      "text/plain": [
       "0"
      ]
     },
     "execution_count": 28,
     "metadata": {},
     "output_type": "execute_result"
    }
   ],
   "source": [
    "2880%1440"
   ]
  },
  {
   "cell_type": "code",
   "execution_count": 30,
   "metadata": {},
   "outputs": [
    {
     "data": {
      "text/plain": [
       "2.0"
      ]
     },
     "execution_count": 30,
     "metadata": {},
     "output_type": "execute_result"
    }
   ],
   "source": [
    "2880/1440"
   ]
  },
  {
   "cell_type": "code",
   "execution_count": 32,
   "metadata": {},
   "outputs": [
    {
     "data": {
      "text/plain": [
       "1"
      ]
     },
     "execution_count": 32,
     "metadata": {},
     "output_type": "execute_result"
    }
   ],
   "source": [
    "math.trunc(2779/1440)"
   ]
  }
 ],
 "metadata": {
  "kernelspec": {
   "display_name": "Python 3.9.7 ('base')",
   "language": "python",
   "name": "python3"
  },
  "language_info": {
   "codemirror_mode": {
    "name": "ipython",
    "version": 3
   },
   "file_extension": ".py",
   "mimetype": "text/x-python",
   "name": "python",
   "nbconvert_exporter": "python",
   "pygments_lexer": "ipython3",
   "version": "3.9.7"
  },
  "orig_nbformat": 4,
  "vscode": {
   "interpreter": {
    "hash": "ffda414415c4b976c53fd3710545a1b34601dda7635296f9321b48022778f0db"
   }
  }
 },
 "nbformat": 4,
 "nbformat_minor": 2
}

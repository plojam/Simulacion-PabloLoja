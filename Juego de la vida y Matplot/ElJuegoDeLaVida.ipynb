{
 "cells": [
  {
   "cell_type": "markdown",
   "metadata": {},
   "source": [
    "### JUEGO DE LA VIDA\n",
    "\n",
    "#### Emplear el programa del “juego de la vida” de John Conway para realizar el siguiente proceso de simulación:\n",
    "\n",
    "* Determinar las variables que rigen el sistema\n",
    "* Diseñar un plan de simulación que permita llegar a una configuración en que los autómatas celulares no varíen\n",
    "* Diseñar un plan de pruebas automatizado, es decir, que sea controlado por el ordenador y que permita lanzar una batería de experimentos.\n",
    "* Recopilar los resultados de estos planes.\n",
    "\n"
   ]
  },
  {
   "cell_type": "markdown",
   "metadata": {},
   "source": []
  },
  {
   "cell_type": "markdown",
   "metadata": {},
   "source": [
    "##### Determinar las variables que rigen el sistema\n",
    "\n",
    "Primero que nada, una pequeña descripcion de lo que trata el juego de la vida. Esto consiste en una malla llena de cuadros, donde cada cuadro se le denomina celula, estas celulas tienen dos estados (viva o muerta). Tomando en cuenta que existe un estado inicial de un pequeño grupo de celulas con el que se va a comenzar, se determinaron las siguientes variables que rigen el sistema:\n",
    "\n",
    "* Tiempo: Puesto que luego de cierto periodo de tiempo, las celulas deben evaluar las reglas del juego y decidir si cambiar o no.\n",
    "* Vecinos: Los vecinos son las 8 celulas mas cercanas a una celula definida. Los vecinos son variables importantes puesto que por ellos se guian las reglas que cambiaran el estado de una celula:\n",
    "    * Celula muerta nace si existen 3 celulass vecinas vivas.\n",
    "    * Celula viva se mantiene viva solo si 2 o 3 celulas vecinas estan vivas, sino, muere por 'soledad' o 'sobrepoblacion'"
   ]
  },
  {
   "cell_type": "markdown",
   "metadata": {},
   "source": [
    "#### Diseñar un plan de simulación que permita llegar a una configuración en que los autómatas celulares no varíen"
   ]
  }
 ],
 "metadata": {
  "interpreter": {
   "hash": "ec6458b9824a1b948fa0c2ebf2caeada6c54d6c2798a1e9d06bc2fe72dba8544"
  },
  "kernelspec": {
   "display_name": "Python 3.9.7 ('base')",
   "language": "python",
   "name": "python3"
  },
  "language_info": {
   "name": "python",
   "version": "3.9.7"
  },
  "orig_nbformat": 4
 },
 "nbformat": 4,
 "nbformat_minor": 2
}

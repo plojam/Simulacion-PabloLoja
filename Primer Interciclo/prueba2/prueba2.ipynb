{
 "cells": [
  {
   "cell_type": "code",
   "execution_count": 1,
   "metadata": {},
   "outputs": [],
   "source": [
    "import math\n",
    "import random\n",
    "import matplotlib.pyplot as plt\n",
    "import numpy as np"
   ]
  },
  {
   "cell_type": "code",
   "execution_count": 2,
   "metadata": {},
   "outputs": [],
   "source": [
    "#Cuadrados medios\n",
    "def funCuadradosMedios(xo,d,iteraciones):\n",
    "    final = []\n",
    "    xn = xo\n",
    "    # print(\"It. \\t Xn \\t Ui \\t Rn\")\n",
    "    for i in range(iteraciones):\n",
    "        xnn = xn**2\n",
    "        txnn = str(xnn).zfill(8)\n",
    "        tam = len(txnn)\n",
    "        ui = int(txnn[int(tam/2-d/2):int(tam/2+d/2)])\n",
    "        rn = ui / (int('9'*d)+1)\n",
    "    #   print(str(i) + \"\\t\" + str(xn) + \"\\t\"+ str(ui)+\"\\t\"+str(rn))\n",
    "        final.append(rn)\n",
    "        xn = ui\n",
    "\n",
    "    return final"
   ]
  },
  {
   "cell_type": "code",
   "execution_count": 3,
   "metadata": {},
   "outputs": [],
   "source": [
    "#Congruencia lineal\n",
    "def funCongruenciaLineal(xo,a,b,m,iteraciones):\n",
    "    final = []\n",
    "    xn = xo\n",
    "    # print(\"It. \\t Xn \\t Ui\")\n",
    "    for i in range(iteraciones):\n",
    "        xnn = (a*xn+b) % m\n",
    "        ui = xnn/m\n",
    "        # print(str(i) + \"\\t\"+ str(xnn)+\"\\t\"+str(ui))\n",
    "        final.append(ui)\n",
    "        xn = xnn\n",
    "    return final"
   ]
  },
  {
   "cell_type": "code",
   "execution_count": 4,
   "metadata": {},
   "outputs": [],
   "source": [
    "#tausworthe\n",
    "def binario_a_decimal(numero_binario):\n",
    "\tnumero_decimal = 0 \n",
    "\n",
    "\tfor posicion, digito_string in enumerate(numero_binario[::-1]):\n",
    "\t\tnumero_decimal += int(digito_string) * 2 ** posicion\n",
    "\n",
    "\treturn numero_decimal\n",
    "def funTausworthe(r,q,l,iteraciones):\n",
    "    bits =[]\n",
    "\n",
    "    #ingresar los valores [0,1] personalmente para el vector inicial\n",
    "    # for x in range(0,q):\n",
    "    #     bit = input('Ingrese un valor binario para el vector inicial de longitud '+str(q))\n",
    "    #     bits.append(int(bit))\n",
    "\n",
    "    #ooo, llenar directamente el vector inicial con 1\n",
    "    for x in range(0,q):\n",
    "        bits.append(1)\n",
    "\n",
    "    # cantidad = (2**q) - 1 - q\n",
    "    cantidad = iteraciones*l\n",
    "\n",
    "    for i in range(q+1,cantidad+1):\n",
    "        if bits[(i-r)-1] == bits[(i-q)-1]:\n",
    "            bits.append(0)\n",
    "        else:\n",
    "            bits.append(1)\n",
    "\n",
    "    vector = ''\n",
    "    for x in range(0,len(bits)):\n",
    "        vector = vector + str(bits[x])\n",
    "        if (x+1) % q == 0:\n",
    "            vector += ' '\n",
    "\n",
    "    # print(vector)\n",
    "    nGrupos = math.floor(len(bits)/l)\n",
    "    # print('Se obtienen ',nGrupos, ' numeros decimales conformados de ', l, ' bits')\n",
    "    # print('Sobran ', len(bits)-(l*nGrupos), ' bits no utilizados')\n",
    "\n",
    "    grupos=[bits[i:i + l] for i in range(0, len(bits), l)]\n",
    "\n",
    "    decimales = []\n",
    "\n",
    "    for x in grupos:\n",
    "        binario = ''\n",
    "        for b in x:\n",
    "            binario += str(b)\n",
    "        decimales.append(binario_a_decimal(binario))\n",
    "\n",
    "    dividido = ''\n",
    "    divisor = 2**l\n",
    "    final = []\n",
    "    for x in decimales:\n",
    "        dividido += str(x) + '/' + str(divisor) + \",  \"\n",
    "        final.append(x/divisor)\n",
    "\n",
    "    # print(dividido)\n",
    "    # print('Final: ',final)\n",
    "    return final\n"
   ]
  },
  {
   "cell_type": "code",
   "execution_count": 5,
   "metadata": {},
   "outputs": [],
   "source": [
    "#Random python\n",
    "def funRandomPython(seed,iteraciones):\n",
    "    final = []\n",
    "    random.seed(seed)\n",
    "    [final.append(random.random())for i in range(iteraciones)]\n",
    "    return final"
   ]
  },
  {
   "cell_type": "code",
   "execution_count": 43,
   "metadata": {},
   "outputs": [],
   "source": [
    "# Corrida arriba - abajo de la media (promedio)\n",
    "def corridaAA(serie,za2):\n",
    "    co = 1\n",
    "    n0 = 0\n",
    "    n1 = 0\n",
    "    aux = serie[0]\n",
    "    s = []\n",
    "    for x in serie:\n",
    "        if x < 0.5:\n",
    "            n0 += 1\n",
    "            s.append(0)\n",
    "        else:\n",
    "            n1 += 1\n",
    "            s.append(1)\n",
    "\n",
    "        if((aux < 0.5 and x >= 0.5) or (aux >= 0.5 and x < 0.5)):\n",
    "            co += 1\n",
    "        \n",
    "        aux = x\n",
    "\n",
    "    n = n0+n1\n",
    "    # print(serie)\n",
    "    # print(\"S = \" , s)\n",
    "\n",
    "    print(\"Co = \" , co)\n",
    "    print(\"n0 = \" , n0)\n",
    "    print(\"n1 = \" , n1)\n",
    "    # print(\"n = \" , n)\n",
    "\n",
    "    plt.figure()\n",
    "\n",
    "    etiquetas = ['>=0.5', '<0.5']\n",
    "    plt.pie([n1,n0], labels=etiquetas, autopct='%.2f %%')\n",
    "    plt.title('Total de 0 y 1')\n",
    "    plt.show()\n",
    "\n",
    "    uco = valorEsperado(n0,n1,n)\n",
    "    o2co = varianza(n0,n1,n)\n",
    "    z0 = eiEstadistico(co,uco,o2co)\n",
    "\n",
    "    # print(\"uco = \" , uco)\n",
    "    # print(\"o2co = \" , o2co)\n",
    "    # print(\"Z0 = \" , z0)\n",
    "    # print(\"Za/2 = \" , za2)\n",
    "\n",
    "    if(-za2<=z0 and z0<=za2):\n",
    "        print(\"Los numeros del conjunto son independientes\")\n",
    "    else:\n",
    "        print(\"Los numeros del conjunto no son independientes\")\n",
    "\n",
    "    \n",
    "def valorEsperado(n0,n1,n):\n",
    "    return (((2*n0*n1)/n) + 1/2)\n",
    "    \n",
    "\n",
    "def varianza(n0,n1,n):\n",
    "    return ((2*n0*n1)*(2*n0*n1-n))/(n**2*(n-1))\n",
    "    \n",
    "def eiEstadistico(co,uco,o2co):\n",
    "    return (co-uco)/(math.sqrt(o2co))\n",
    "\n",
    "\n",
    "\n"
   ]
  },
  {
   "cell_type": "code",
   "execution_count": 44,
   "metadata": {},
   "outputs": [
    {
     "name": "stdout",
     "output_type": "stream",
     "text": [
      "Cadrados medios\n",
      "Co =  49\n",
      "n0 =  41\n",
      "n1 =  59\n"
     ]
    },
    {
     "data": {
      "image/png": "[encoded data removed]",
      "text/plain": [
       "<Figure size 432x288 with 1 Axes>"
      ]
     },
     "metadata": {},
     "output_type": "display_data"
    },
    {
     "name": "stdout",
     "output_type": "stream",
     "text": [
      "Los numeros del conjunto son independientes\n"
     ]
    }
   ],
   "source": [
    "print('Cadrados medios')\n",
    "serie = funCuadradosMedios(74731897457,7,100)\n",
    "\n",
    "corridaAA(serie, 1.960)"
   ]
  },
  {
   "cell_type": "code",
   "execution_count": 45,
   "metadata": {},
   "outputs": [
    {
     "name": "stdout",
     "output_type": "stream",
     "text": [
      "Congruencia lineal\n",
      "Co =  45\n",
      "n0 =  44\n",
      "n1 =  56\n"
     ]
    },
    {
     "data": {
      "image/png": "[encoded data removed]",
      "text/plain": [
       "<Figure size 432x288 with 1 Axes>"
      ]
     },
     "metadata": {},
     "output_type": "display_data"
    },
    {
     "name": "stdout",
     "output_type": "stream",
     "text": [
      "Los numeros del conjunto son independientes\n"
     ]
    }
   ],
   "source": [
    "print('Congruencia lineal')\n",
    "serie = funCongruenciaLineal(7,74731897457,37747318974,19,100)\n",
    "\n",
    "corridaAA(serie, 1.960)"
   ]
  },
  {
   "cell_type": "code",
   "execution_count": 46,
   "metadata": {},
   "outputs": [
    {
     "name": "stdout",
     "output_type": "stream",
     "text": [
      "Random de python\n",
      "Co =  46\n",
      "n0 =  57\n",
      "n1 =  43\n"
     ]
    },
    {
     "data": {
      "image/png": "[encoded data removed]",
      "text/plain": [
       "<Figure size 432x288 with 1 Axes>"
      ]
     },
     "metadata": {},
     "output_type": "display_data"
    },
    {
     "name": "stdout",
     "output_type": "stream",
     "text": [
      "Los numeros del conjunto son independientes\n"
     ]
    }
   ],
   "source": [
    "print('Random de python')\n",
    "serie = funRandomPython(1032022,100)\n",
    "\n",
    "corridaAA(serie, 1.960)\n"
   ]
  },
  {
   "cell_type": "code",
   "execution_count": 47,
   "metadata": {},
   "outputs": [
    {
     "name": "stdout",
     "output_type": "stream",
     "text": [
      "Tausworthe\n",
      "Co =  48\n",
      "n0 =  42\n",
      "n1 =  58\n"
     ]
    },
    {
     "data": {
      "image/png": "[encoded data removed]",
      "text/plain": [
       "<Figure size 432x288 with 1 Axes>"
      ]
     },
     "metadata": {},
     "output_type": "display_data"
    },
    {
     "name": "stdout",
     "output_type": "stream",
     "text": [
      "Los numeros del conjunto son independientes\n"
     ]
    }
   ],
   "source": [
    "print('Tausworthe')\n",
    "serie = funTausworthe(7,15,7,100)\n",
    "\n",
    "corridaAA(serie, 1.960)"
   ]
  },
  {
   "cell_type": "markdown",
   "metadata": {},
   "source": [
    "#### Conclusion\n",
    "\n",
    "Utilizando el metodo de la prueba de corrida arriba y abajo de la media, se puede observar que los 4 metodos de generacion de numeros pseudo-aleatorios cumplen la regla de independencia.\n",
    "Tambien se puede observar que el metodo de tausworthe es el que obtiene un numero de corridas mas equilibrado, puesto que el numero de 0 y 1 son 50."
   ]
  }
 ],
 "metadata": {
  "interpreter": {
   "hash": "ffda414415c4b976c53fd3710545a1b34601dda7635296f9321b48022778f0db"
  },
  "kernelspec": {
   "display_name": "Python 3.9.7 ('base')",
   "language": "python",
   "name": "python3"
  },
  "language_info": {
   "codemirror_mode": {
    "name": "ipython",
    "version": 3
   },
   "file_extension": ".py",
   "mimetype": "text/x-python",
   "name": "python",
   "nbconvert_exporter": "python",
   "pygments_lexer": "ipython3",
   "version": "3.9.7"
  },
  "orig_nbformat": 4
 },
 "nbformat": 4,
 "nbformat_minor": 2
}

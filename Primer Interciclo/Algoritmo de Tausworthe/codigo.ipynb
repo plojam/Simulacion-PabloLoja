{
 "cells": [
  {
   "cell_type": "code",
   "execution_count": 3,
   "metadata": {},
   "outputs": [],
   "source": [
    "import math\n",
    "\n",
    "def binario_a_decimal(numero_binario):\n",
    "\tnumero_decimal = 0 \n",
    "\n",
    "\tfor posicion, digito_string in enumerate(numero_binario[::-1]):\n",
    "\t\tnumero_decimal += int(digito_string) * 2 ** posicion\n",
    "\n",
    "\treturn numero_decimal"
   ]
  },
  {
   "cell_type": "code",
   "execution_count": 10,
   "metadata": {},
   "outputs": [
    {
     "name": "stdout",
     "output_type": "stream",
     "text": [
      "r= 3\n",
      "q= 5\n",
      "11111 00011 01110 10100 00100 10110 01111 10001 10111 01010 000\n",
      "l= 4\n",
      "Se obtienen  13  numeros decimales conformados de  4  bits\n",
      "Sobran  1  bits no utilizados\n",
      "15/16,  8/16,  13/16,  13/16,  4/16,  2/16,  5/16,  9/16,  15/16,  1/16,  11/16,  10/16,  8/16,  0/16,  \n",
      "Final [0.9375, 0.5, 0.8125, 0.8125, 0.25, 0.125, 0.3125, 0.5625, 0.9375, 0.0625, 0.6875, 0.625, 0.5, 0.0]\n"
     ]
    }
   ],
   "source": [
    "bits =[]\n",
    "\n",
    "r = input('Ingrese el valor de r')\n",
    "q = input('Ingrese el valor de q')\n",
    "\n",
    "print('r=',r)\n",
    "print('q=',q)\n",
    "\n",
    "r = int(r)\n",
    "q = int(q)\n",
    "\n",
    "#ingresar los valores [0,1] personalmente para el vector inicial\n",
    "for x in range(0,q):\n",
    "    bit = input('Ingrese un valor binario para el vector inicial de longitud '+str(q))\n",
    "    bits.append(int(bit))\n",
    "\n",
    "#ooo, llenar directamente el vector inicial con 1\n",
    "# for x in range(0,q):\n",
    "#     bits.append(1)\n",
    "\n",
    "cantidad = input('Ingrese la cantidad de bits que quiere agregar al vector (actualente '+str(q)+')')\n",
    "cantidad = int(cantidad)\n",
    "\n",
    "for i in range(q+1,cantidad+1):\n",
    "    if bits[(i-r)-1] == bits[(i-q)-1]:\n",
    "        bits.append(0)\n",
    "    else:\n",
    "        bits.append(1)\n",
    "\n",
    "vector = ''\n",
    "for x in range(0,len(bits)):\n",
    "    vector = vector + str(bits[x])\n",
    "    if (x+1) % q == 0:\n",
    "        vector += ' '\n",
    "\n",
    "print(vector)\n",
    "\n",
    "l = input('Ingrese en valor de l para la agrupacion de bits y poder transformar a numeros decimales')\n",
    "l = int(l)\n",
    "print('l=',l)\n",
    "\n",
    "nGrupos = math.floor(len(bits)/l)\n",
    "\n",
    "print('Se obtienen ',nGrupos, ' numeros decimales conformados de ', l, ' bits')\n",
    "print('Sobran ', len(bits)-(l*nGrupos), ' bits no utilizados')\n",
    "\n",
    "\n",
    "grupos=[bits[i:i + l] for i in range(0, len(bits), l)]\n",
    "\n",
    "decimales = []\n",
    "\n",
    "for x in grupos:\n",
    "    binario = ''\n",
    "    for b in x:\n",
    "        binario += str(b)\n",
    "    decimales.append(binario_a_decimal(binario))\n",
    "\n",
    "dividido = ''\n",
    "divisor = 2**l\n",
    "final = []\n",
    "for x in decimales:\n",
    "    dividido += str(x) + '/' + str(divisor) + \",  \"\n",
    "    final.append(x/divisor)\n",
    "\n",
    "print(dividido)\n",
    "\n",
    "print('Final',final)\n",
    "\n",
    "\n",
    "\n",
    "#print(decimales)"
   ]
  }
 ],
 "metadata": {
  "interpreter": {
   "hash": "ec6458b9824a1b948fa0c2ebf2caeada6c54d6c2798a1e9d06bc2fe72dba8544"
  },
  "kernelspec": {
   "display_name": "Python 3.9.7 ('base')",
   "language": "python",
   "name": "python3"
  },
  "language_info": {
   "codemirror_mode": {
    "name": "ipython",
    "version": 3
   },
   "file_extension": ".py",
   "mimetype": "text/x-python",
   "name": "python",
   "nbconvert_exporter": "python",
   "pygments_lexer": "ipython3",
   "version": "3.9.7"
  },
  "orig_nbformat": 4
 },
 "nbformat": 4,
 "nbformat_minor": 2
}

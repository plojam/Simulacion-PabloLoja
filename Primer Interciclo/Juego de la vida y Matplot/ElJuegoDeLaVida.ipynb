{
 "cells": [
  {
   "cell_type": "markdown",
   "metadata": {},
   "source": [
    "### JUEGO DE LA VIDA\n",
    "\n",
    "#### Emplear el programa del “juego de la vida” de John Conway para realizar el siguiente proceso de simulación:\n",
    "\n",
    "* Determinar las variables que rigen el sistema\n",
    "* Diseñar un plan de simulación que permita llegar a una configuración en que los autómatas celulares no varíen\n",
    "* Diseñar un plan de pruebas automatizado, es decir, que sea controlado por el ordenador y que permita lanzar una batería de experimentos.\n",
    "* Recopilar los resultados de estos planes.\n",
    "\n"
   ]
  },
  {
   "cell_type": "markdown",
   "metadata": {},
   "source": [
    "#### 1. Determinar las variables que rigen el sistema\n",
    "\n",
    "Primero que nada, una pequeña descripcion de lo que trata el juego de la vida. Esto consiste en una malla llena de cuadros, donde cada cuadro se le denomina celula, estas celulas tienen dos estados (viva o muerta). Tomando en cuenta que existe un estado inicial de un pequeño grupo de celulas con el que se va a comenzar, se determinaron las siguientes variables que rigen el sistema:\n",
    "\n",
    "* Tiempo: Puesto que luego de cierto periodo de tiempo, las celulas deben evaluar las reglas del juego y decidir si cambiar o no.\n",
    "* Vecinos: Los vecinos son las 8 celulas mas cercanas a una celula definida. Los vecinos son variables importantes puesto que por ellos se guian las reglas que cambiaran el estado de una celula:\n",
    "    * Celula muerta nace si existen 3 celulas vecinas vivas.\n",
    "    * Celula viva se mantiene viva solo si 2 o 3 celulas vecinas estan vivas, sino, muere por 'soledad' o 'sobrepoblacion'"
   ]
  },
  {
   "cell_type": "markdown",
   "metadata": {},
   "source": [
    "#### 2. Diseñar un plan de simulación que permita llegar a una configuración en que los autómatas celulares no varíen\n",
    "\n",
    "Para asegurar que se pueda tener una configuracion en donde las celulas no varien, se debe asegurar de que una de las reglas antes mencionadas se cumpla siempre. Esta regla indica que una celula viva va a mantener su estado si y solo si tiene 2 o 3 celulas a su alrededor (8 vecinos) que esten vivas.\n",
    "\n",
    "Solo si se cumple esta regla, se obtiene una configuracion donde las celulas no varien, no obstante esto se da cuando parte de una configuracion idonea, lo que significa que todas las celulas partiran con 2 o 3 vecinos vivos desde un principio. Cuando este no sea el caso, el sistema/juego debera tener otra configuracion inicial la cual obecederan a las otras reglas que permitiran el cambio de estado de las celulas de vivas a muertas y viceversa; y que con el paso del tiempo el sistema llegue a tener celulas que no varien."
   ]
  },
  {
   "cell_type": "markdown",
   "metadata": {},
   "source": [
    "#### 3. Diseñar un plan de pruebas automatizado, es decir, que sea controlado por el ordenador y que permita lanzar una batería de experimentos.\n",
    "\n",
    "\n",
    "A continuacion se presentan distintos modelos los cuales permiten realizar pruebas al sistema/juego. El primero se presenta como un conjunto de celulas las cuales estan cumpliendo con el requisito de la pregunta anterior, donde, en primera instancia se comienza cumpliendo la regla que indica que cada celula solo debe tener 2 o 3 vecinos vivos para mantenerse vivo y, como se puede observar si el sistema comienza cumpliendo esta regla, las celular no variaran sin importar el paso del tiempo."
   ]
  },
  {
   "cell_type": "markdown",
   "metadata": {},
   "source": [
    "![noVaria1](noVaria1.png)"
   ]
  },
  {
   "cell_type": "markdown",
   "metadata": {},
   "source": [
    "En el segundo caso, se presentan 2 modelos difenretes donde no se esta cumpliendo con la regla anteriormente mencionada, entonces por logica se aplicara una de las otras reglas que rigen el comportamiento de las celulas. Y como se puede observar, a la larga las celulas podran llegar a una forma donde no tengan que variar."
   ]
  },
  {
   "cell_type": "markdown",
   "metadata": {},
   "source": [
    "![noVaria2](noVaria2.png)\n",
    "![noVaria3](noVaria3.png)"
   ]
  },
  {
   "cell_type": "markdown",
   "metadata": {},
   "source": [
    "El tercer modelo, presenta una forma inicial la cual aparentemente no va a llegar a que las celulas tengan una forma en la que no tengan que variar, pero al realziar pruebas con este modelo se obtiene que se puede obtener conjuntos de celulas mezcladas, es decir, un conjunto de celulas las cuales no van a variar con el paso del tiempo y otro conjunto de celulas las cuales van a oscilar siempre."
   ]
  },
  {
   "cell_type": "markdown",
   "metadata": {},
   "source": [
    "![mezcla1](mezcla1.png)"
   ]
  },
  {
   "cell_type": "markdown",
   "metadata": {},
   "source": [
    "#### 4. Recopilar los resultados de estos planes.\n",
    "\n",
    "Como se puede observar en el punto pasado, se realizaron diferentes pruebas con diferentes modelos en los que las celulas tienen una posicion inicial diferente y con ello se ha podido obtener e inferir los siguientes resultados:\n",
    "\n",
    "* Las celulas pueden partir desde un modelo inicial para que nunca varien sin importar el paso del tiempo.\n",
    "* Las celulas pueden partir desde un modelo inicial las cuales oscilen sin importar el paso del tiempo.\n",
    "* Las celulas pueden partir desde cierta posicion para terminar como un conjunto no variante.\n",
    "* Las celulas pueden partir desde cierta posicion para terminar como un conjunto oscilatorio.\n",
    "* Las celulas pueden partir desde cierta posicion y con el paso del tiempo estas pueden aumentar su cantidad o disminurilo hasta 0.\n",
    "* Las celulas pueden partir desde cierta posicion para que gracial al paso del tiempo, se formen grupos mixtos entre grupos de celulas que no varian y grupos de celulas oscilatorias."
   ]
  }
 ],
 "metadata": {
  "interpreter": {
   "hash": "ffda414415c4b976c53fd3710545a1b34601dda7635296f9321b48022778f0db"
  },
  "kernelspec": {
   "display_name": "Python 3.9.7 ('base')",
   "language": "python",
   "name": "python3"
  },
  "language_info": {
   "name": "python",
   "version": "3.9.7"
  },
  "orig_nbformat": 4
 },
 "nbformat": 4,
 "nbformat_minor": 2
}

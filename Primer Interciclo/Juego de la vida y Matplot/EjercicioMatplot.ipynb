{
 "cells": [
  {
   "cell_type": "code",
   "execution_count": 45,
   "metadata": {},
   "outputs": [],
   "source": [
    "import matplotlib.pyplot as plt\n",
    "import numpy as np\n",
    "import pandas as pd\n",
    "import io\n",
    "import plotly.graph_objects as go\n",
    "import math"
   ]
  },
  {
   "cell_type": "markdown",
   "metadata": {},
   "source": [
    "### Utiliza Matplot y Ploty para realizar las graficas\n",
    "#### 1 Con los datos de Fifa, organizar a los jugadores de acuerdo al peso en las siguientes escalas y generar un cuadro tipo PIE\n",
    "\n",
    "* Debajo 125 Lbs.\n",
    "* 125-150\n",
    "* 150-175\n",
    "* 175 o superior"
   ]
  },
  {
   "cell_type": "code",
   "execution_count": 69,
   "metadata": {},
   "outputs": [
    {
     "data": {
      "image/png": "[encoded data removed]",
      "text/plain": [
       "<Figure size 432x288 with 1 Axes>"
      ]
     },
     "metadata": {},
     "output_type": "display_data"
    }
   ],
   "source": [
    "fifa = pd.read_csv('fifa_datos.csv')\n",
    "\n",
    "fifa['Weight'] = fifa['Weight'].str.replace('lbs','')\n",
    "fifa['Weight'] = pd.to_numeric(fifa['Weight'])\n",
    "\n",
    "mas0 = fifa.loc[fifa['Weight'] < 125].count()[0]\n",
    "mas125 = fifa.loc[(fifa['Weight'] >= 125) & (fifa['Weight'] < 150)].count()[0]\n",
    "mas150 = fifa.loc[(fifa['Weight'] >= 150) & (fifa['Weight'] < 175)].count()[0]\n",
    "mas175 = fifa.loc[fifa['Weight'] >= 175].count()[0]\n",
    "\n",
    "plt.figure()\n",
    "\n",
    "etiquetas = ['Debajo 125 Lbs.', '125 - 150 Lbs.', ' 150 - 175 Lbs.', ' 175 Lbs. o superior']\n",
    "plt.pie([mas0,mas125,mas150,mas175], labels=etiquetas, autopct='%.2f %%')\n",
    "plt.title('Peso')\n",
    "\n",
    "plt.show()"
   ]
  },
  {
   "cell_type": "markdown",
   "metadata": {},
   "source": [
    "#### 2 Generar un grafico de barras (histograma) de acuerdo a su habilidad (Overall)  en base a los siguientes segmentos contando el número de jugadores\n",
    "\n",
    "* 40\n",
    "* 50\n",
    "* 60\n",
    "* 70\n",
    "* 80\n",
    "* 90"
   ]
  },
  {
   "cell_type": "code",
   "execution_count": 78,
   "metadata": {},
   "outputs": [
    {
     "data": {
      "image/png": "[encoded data removed]",
      "text/plain": [
       "<Figure size 432x288 with 1 Axes>"
      ]
     },
     "metadata": {
      "needs_background": "light"
     },
     "output_type": "display_data"
    }
   ],
   "source": [
    "fifa = pd.read_csv('fifa_datos.csv')\n",
    "\n",
    "l40 = fifa.loc[fifa['Overall'] < 50].count()[0]\n",
    "l50 = fifa.loc[(fifa['Overall'] >= 50) & (fifa['Overall'] < 60)].count()[0]\n",
    "l60 = fifa.loc[(fifa['Overall'] >= 60) & (fifa['Overall'] < 70)].count()[0]\n",
    "l70 = fifa.loc[(fifa['Overall'] >= 70) & (fifa['Overall'] < 80)].count()[0]\n",
    "l80 = fifa.loc[(fifa['Overall'] >= 80) & (fifa['Overall'] < 90)].count()[0]\n",
    "l90 = fifa.loc[fifa['Overall'] >= 90].count()[0]\n",
    "\n",
    "etiquetas = ['40-49','50-59','60-69','70-79','80,89','90-100']\n",
    "\n",
    "plt.figure()\n",
    "barraas = plt.bar(etiquetas,[l40,l50,l60,l70,l80,l90])\n",
    "plt.title('Habilidad')\n",
    "\n",
    "plt.show()\n"
   ]
  },
  {
   "cell_type": "markdown",
   "metadata": {},
   "source": [
    "#### 3 Investigar alguna herramienta o software que permita generar reportes con Python."
   ]
  },
  {
   "cell_type": "markdown",
   "metadata": {},
   "source": [
    "##### ReportLab\n",
    "\n",
    "ReportLab es un conjunto de herramientas que permite crear documentos PDF desde python. Esta libreria permite generar textos, figuras, graficas y otras ilustraciones en un mismo documento.\n",
    "\n",
    "Para empezar, se puede generar el archivo PDF vacio con el uso del siguiente codigo."
   ]
  },
  {
   "cell_type": "code",
   "execution_count": 6,
   "metadata": {},
   "outputs": [
    {
     "name": "stdout",
     "output_type": "stream",
     "text": [
      "(612.0, 792.0)\n",
      "(595.2755905511812, 841.8897637795277)\n"
     ]
    }
   ],
   "source": [
    "from reportlab.pdfgen import canvas\n",
    "#para poder especificar tamaños de las hojas\n",
    "from reportlab.lib.pagesizes import A4, letter\n",
    "\n",
    "c = canvas.Canvas(\"reporte.pdf\", pagesize=A4)\n",
    "c.save()\n",
    "\n",
    "#Ddimensiones de las hojas\n",
    "print(letter)\n",
    "print(A4)"
   ]
  },
  {
   "cell_type": "markdown",
   "metadata": {},
   "source": [
    "Para poder agregar cualquier texto al documento se lo hace mediante un drawString donde se indican las coordenadas (x,y) donde se encontrara el texto y el mensaje que mostrara."
   ]
  },
  {
   "cell_type": "code",
   "execution_count": 8,
   "metadata": {},
   "outputs": [],
   "source": [
    "w, h = A4\n",
    "c = canvas.Canvas(\"reporte.pdf\", pagesize=A4)\n",
    "c.drawString(50, h - 50, \"Reporte 1\")\n",
    "c.showPage()\n",
    "c.save()"
   ]
  },
  {
   "cell_type": "markdown",
   "metadata": {},
   "source": [
    "No obstante, tambien existe otra forma mas comoda para la introduccion de textos mas largos usando text objects, el resultado es el siguiente:"
   ]
  },
  {
   "cell_type": "code",
   "execution_count": 11,
   "metadata": {},
   "outputs": [],
   "source": [
    "w, h = A4\n",
    "c = canvas.Canvas(\"reporte.pdf\", pagesize=A4)\n",
    "text = c.beginText(50, h - 50)\n",
    "text.setFont(\"Times-Roman\", 12)\n",
    "text.textLine(\"Primer mensaje\")\n",
    "text.textLine(\"Segundo mensaje\")\n",
    "text.textLines(\"Tercer mensaje\\nContinuacion del tercer mensaje pero con un salto de linea\")\n",
    "c.drawText(text)\n",
    "c.showPage()\n",
    "c.save()"
   ]
  },
  {
   "cell_type": "markdown",
   "metadata": {},
   "source": [
    "Para ingresar alguna figura geometrica, ReportLab cuenta con algunas funciones que lo permiten:\n",
    "* line: linea\n",
    "* rect: rectangulo\n",
    "* roundRect: rectangulo con puntas redondeadas\n",
    "* circle: circulos\n",
    "* ellipse: elipse\n"
   ]
  },
  {
   "cell_type": "code",
   "execution_count": 9,
   "metadata": {},
   "outputs": [],
   "source": [
    "\n",
    "w, h = A4\n",
    "c = canvas.Canvas(\"reporte.pdf\", pagesize=A4)\n",
    "c.drawString(30, h - 50, \"Línea\")\n",
    "x = 120\n",
    "y = h - 45\n",
    "c.line(x, y, x + 100, y)\n",
    "c.drawString(30, h - 100, \"Rectángulo\")\n",
    "c.rect(x, h - 120, 100, 50)\n",
    "c.drawString(30, h - 170, \"Círculo\")\n",
    "c.circle(170, h - 165, 20)\n",
    "c.drawString(30, h - 240, \"Elipse\")\n",
    "c.ellipse(x, y - 170, x + 100, y - 220)\n",
    "c.showPage()\n",
    "c.save()"
   ]
  },
  {
   "cell_type": "markdown",
   "metadata": {},
   "source": [
    "Esta libreria tambien permite la implementacion de imagenes dentro del documento, para esto, ReportLab requiere la libreria Pillow para la lectura de la imagen y luego se la plasma en el documento con la funcion drawImage."
   ]
  },
  {
   "cell_type": "code",
   "execution_count": 14,
   "metadata": {},
   "outputs": [],
   "source": [
    "#para la lectura de imagen, se lo puede hacer directo, pero es preferible poder conocer la informacion de la imagen que se va a presentar en el documento (ej. tamaños)\n",
    "from reportlab.lib.utils import ImageReader\n",
    "from reportlab.pdfgen import canvas\n",
    "\n",
    "w, h = A4\n",
    "c = canvas.Canvas(\"reporte.pdf\", pagesize=A4)\n",
    "\n",
    "img = ImageReader(\"upsLogo.png\")\n",
    "\n",
    "img_w, img_h = img.getSize()\n",
    "\n",
    "c.drawImage(img, 0, h - img_h)\n",
    "c.save()"
   ]
  },
  {
   "cell_type": "markdown",
   "metadata": {},
   "source": [
    "Por ultimo, esta libreria permite generar grillas/tablas dentro del documento, por lo que tiene un metodo llamado grid, aca un ejemplo practico de la generacion de una tabla."
   ]
  },
  {
   "cell_type": "code",
   "execution_count": 15,
   "metadata": {},
   "outputs": [],
   "source": [
    "import itertools\n",
    "from random import randint\n",
    "from statistics import mean\n",
    "from reportlab.lib.pagesizes import A4\n",
    "from reportlab.pdfgen import canvas\n",
    "\n",
    "def grouper(iterable, n):\n",
    "    args = [iter(iterable)] * n\n",
    "    return itertools.zip_longest(*args)\n",
    "def export_to_pdf(data):\n",
    "    c = canvas.Canvas(\"reporte.pdf\", pagesize=A4)\n",
    "    w, h = A4\n",
    "    max_rows_per_page = 45\n",
    "    # Margin.\n",
    "    x_offset = 50\n",
    "    y_offset = 50\n",
    "    # Space between rows.\n",
    "    padding = 15\n",
    "    \n",
    "    xlist = [x + x_offset for x in [0, 200, 250, 300, 350, 400, 480]]\n",
    "    ylist = [h - y_offset - i*padding for i in range(max_rows_per_page + 1)]\n",
    "    \n",
    "    for rows in grouper(data, max_rows_per_page):\n",
    "        rows = tuple(filter(bool, rows))\n",
    "        c.grid(xlist, ylist[:len(rows) + 1])\n",
    "        for y, row in zip(ylist[:-1], rows):\n",
    "            for x, cell in zip(xlist, row):\n",
    "                c.drawString(x + 2, y - padding + 3, str(cell))\n",
    "        c.showPage()\n",
    "    \n",
    "    c.save()\n",
    "data = [(\"NOMBRE\", \"NOTA 1\", \"NOTA 2\", \"NOTA 3\", \"PROM.\", \"ESTADO\")]\n",
    "for i in range(1, 101):\n",
    "    exams = [randint(0, 10) for _ in range(3)]\n",
    "    avg = round(mean(exams), 2)\n",
    "    state = \"Aprobado\" if avg >= 4 else \"Desaprobado\"\n",
    "    data.append((f\"Alumno {i}\", *exams, avg, state))\n",
    "export_to_pdf(data)\n"
   ]
  }
 ],
 "metadata": {
  "interpreter": {
   "hash": "ec6458b9824a1b948fa0c2ebf2caeada6c54d6c2798a1e9d06bc2fe72dba8544"
  },
  "kernelspec": {
   "display_name": "Python 3.9.7 ('base')",
   "language": "python",
   "name": "python3"
  },
  "language_info": {
   "codemirror_mode": {
    "name": "ipython",
    "version": 3
   },
   "file_extension": ".py",
   "mimetype": "text/x-python",
   "name": "python",
   "nbconvert_exporter": "python",
   "pygments_lexer": "ipython3",
   "version": "3.9.7"
  },
  "orig_nbformat": 4
 },
 "nbformat": 4,
 "nbformat_minor": 2
}
